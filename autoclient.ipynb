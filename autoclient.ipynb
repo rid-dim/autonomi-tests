{
 "cells": [
  {
   "cell_type": "code",
   "execution_count": 1,
   "id": "d8d0c9cd-6298-4808-b8c8-665381a8a5e5",
   "metadata": {},
   "outputs": [],
   "source": [
    "from datetime import datetime\n",
    "# Aktuelles Datum und Uhrzeit im ISO-Format holen\n",
    "timestamp = datetime.now().isoformat(timespec='minutes').replace(\":\", \"\")"
   ]
  },
  {
   "cell_type": "code",
   "execution_count": 2,
   "id": "2ec82ddd-7691-4a7d-a906-3271439c2065",
   "metadata": {},
   "outputs": [
    {
     "data": {
      "text/plain": [
       "'2025-03-02T1324'"
      ]
     },
     "execution_count": 2,
     "metadata": {},
     "output_type": "execute_result"
    }
   ],
   "source": [
    "timestamp"
   ]
  },
  {
   "cell_type": "code",
   "execution_count": 3,
   "id": "3c0038b7-53d6-4064-b174-e6aa79a24215",
   "metadata": {},
   "outputs": [],
   "source": [
    "from IPython.display import display\n",
    "from PIL import Image\n",
    "import io"
   ]
  },
  {
   "cell_type": "code",
   "execution_count": 4,
   "id": "02a38735-5da4-433c-b9af-908cdbae731a",
   "metadata": {},
   "outputs": [],
   "source": [
    "from autonomi_client import Client, Wallet, PaymentOption\n",
    "# Connect to network\n",
    "client = await Client.init()"
   ]
  },
  {
   "cell_type": "code",
   "execution_count": 5,
   "id": "daaf5f49-6ddf-403e-80c8-b443382526cd",
   "metadata": {},
   "outputs": [],
   "source": [
    "from autonomi_client import ChunkAddress, DataMapChunk, Metadata, Network, PublicKey, SecretKey"
   ]
  },
  {
   "cell_type": "code",
   "execution_count": 6,
   "id": "87596919-868b-40ab-afaa-509c2256d838",
   "metadata": {},
   "outputs": [],
   "source": [
    "from autonomi_client import PaymentOption"
   ]
  },
  {
   "cell_type": "code",
   "execution_count": 9,
   "id": "55d553ec-e24e-413f-ae0d-633cfde77ed6",
   "metadata": {},
   "outputs": [],
   "source": [
    "import py_ecc"
   ]
  },
  {
   "cell_type": "code",
   "execution_count": 10,
   "id": "5ffd4a86-90d2-4ddc-b834-906afc7388d7",
   "metadata": {},
   "outputs": [],
   "source": [
    "data_address = \"a7d2fdbb975efaea25b7ebe3d38be4a0b82c1d71e9b89ac4f37bc9f8677826e0\""
   ]
  },
  {
   "cell_type": "code",
   "execution_count": 11,
   "id": "180c8fd8-2c76-4586-aed4-ddf47fb6f4e2",
   "metadata": {},
   "outputs": [],
   "source": [
    "import time"
   ]
  },
  {
   "cell_type": "markdown",
   "id": "16e232cf-8b29-47ea-bc39-9266f7205284",
   "metadata": {},
   "source": [
    "## interaction with immutable chunks\n",
    "\n",
    "- the issues i'm having is how to read them because i somehow don't see how i can get a valid address/XOR-Name object"
   ]
  },
  {
   "cell_type": "code",
   "execution_count": 13,
   "id": "e2507dd8-547c-4dc2-bbf0-d9a59b45d5a2",
   "metadata": {},
   "outputs": [
    {
     "ename": "TypeError",
     "evalue": "argument 'addr': 'str' object cannot be converted to 'DataAddress'",
     "output_type": "error",
     "traceback": [
      "\u001b[31m---------------------------------------------------------------------------\u001b[39m",
      "\u001b[31mTypeError\u001b[39m                                 Traceback (most recent call last)",
      "\u001b[36mCell\u001b[39m\u001b[36m \u001b[39m\u001b[32mIn[13]\u001b[39m\u001b[32m, line 2\u001b[39m\n\u001b[32m      1\u001b[39m now = time.time()\n\u001b[32m----> \u001b[39m\u001b[32m2\u001b[39m dog_picture = \u001b[38;5;28;01mawait\u001b[39;00m \u001b[43mclient\u001b[49m\u001b[43m.\u001b[49m\u001b[43mdata_get_public\u001b[49m\u001b[43m(\u001b[49m\u001b[43mdata_address\u001b[49m\u001b[43m)\u001b[49m\n\u001b[32m      4\u001b[39m \u001b[38;5;28mprint\u001b[39m(\u001b[33mf\u001b[39m\u001b[33m\"\u001b[39m\u001b[33mduration: \u001b[39m\u001b[38;5;132;01m{\u001b[39;00mtime.time()-now\u001b[38;5;132;01m}\u001b[39;00m\u001b[33m seconds\u001b[39m\u001b[33m\"\u001b[39m)\n",
      "\u001b[31mTypeError\u001b[39m: argument 'addr': 'str' object cannot be converted to 'DataAddress'"
     ]
    }
   ],
   "source": [
    "now = time.time()\n",
    "dog_picture = await client.data_get_public(data_address)\n",
    "\n",
    "print(f\"duration: {time.time()-now} seconds\")"
   ]
  },
  {
   "cell_type": "code",
   "execution_count": 14,
   "id": "c313a2cc-38c3-4499-94a8-b2e7a22c584c",
   "metadata": {},
   "outputs": [
    {
     "ename": "TypeError",
     "evalue": "argument 'addr': 'str' object cannot be converted to 'XorName'",
     "output_type": "error",
     "traceback": [
      "\u001b[31m---------------------------------------------------------------------------\u001b[39m",
      "\u001b[31mTypeError\u001b[39m                                 Traceback (most recent call last)",
      "\u001b[36mCell\u001b[39m\u001b[36m \u001b[39m\u001b[32mIn[14]\u001b[39m\u001b[32m, line 1\u001b[39m\n\u001b[32m----> \u001b[39m\u001b[32m1\u001b[39m data_address = \u001b[43mChunkAddress\u001b[49m\u001b[43m(\u001b[49m\u001b[33;43m\"\u001b[39;49m\u001b[33;43ma0f6fa2b08e868060fe6e57018e3f73294821feaf3fdcf9cd636ac3d11e7e2ac\u001b[39;49m\u001b[33;43m\"\u001b[39;49m\u001b[43m)\u001b[49m\n",
      "\u001b[31mTypeError\u001b[39m: argument 'addr': 'str' object cannot be converted to 'XorName'"
     ]
    }
   ],
   "source": [
    "data_address = ChunkAddress(\"a0f6fa2b08e868060fe6e57018e3f73294821feaf3fdcf9cd636ac3d11e7e2ac\")"
   ]
  },
  {
   "cell_type": "code",
   "execution_count": 15,
   "id": "f4a4471c-a45a-4fe9-b41f-dd6976efa2f0",
   "metadata": {},
   "outputs": [],
   "source": [
    "import autonomi_client as ac"
   ]
  },
  {
   "cell_type": "markdown",
   "id": "eebe51fc-5852-49f2-9462-869bb3b6f662",
   "metadata": {},
   "source": [
    "---"
   ]
  },
  {
   "cell_type": "markdown",
   "id": "9ba68157-86e4-4040-9de3-22ad9c3fedc3",
   "metadata": {},
   "source": [
    "neither DataAdddress nor XorName seem to be part of the autonomi_client library"
   ]
  },
  {
   "cell_type": "markdown",
   "id": "17f578ee-79e7-4105-b5bf-393ebc682c99",
   "metadata": {},
   "source": [
    "---"
   ]
  },
  {
   "cell_type": "code",
   "execution_count": 16,
   "id": "344f104a-ffbe-4230-acc8-b14b23b774e6",
   "metadata": {},
   "outputs": [
    {
     "data": {
      "text/plain": [
       "['ChunkAddress',\n",
       " 'Client',\n",
       " 'ClientConfig',\n",
       " 'DataMapChunk',\n",
       " 'GraphEntry',\n",
       " 'GraphEntryAddress',\n",
       " 'Metadata',\n",
       " 'Network',\n",
       " 'PaymentOption',\n",
       " 'Pointer',\n",
       " 'PointerAddress',\n",
       " 'PointerTarget',\n",
       " 'PrivateArchive',\n",
       " 'PublicArchive',\n",
       " 'PublicKey',\n",
       " 'RegisterHistory',\n",
       " 'Scratchpad',\n",
       " 'ScratchpadAddress',\n",
       " 'SecretKey',\n",
       " 'UserData',\n",
       " 'VaultSecretKey',\n",
       " 'Wallet']"
      ]
     },
     "execution_count": 16,
     "metadata": {},
     "output_type": "execute_result"
    }
   ],
   "source": [
    "[name for name in dir(ac) if isinstance(getattr(ac, name), type)]"
   ]
  },
  {
   "cell_type": "code",
   "execution_count": 17,
   "id": "897ced34-f9e1-4df3-be01-484129078ee9",
   "metadata": {},
   "outputs": [],
   "source": [
    "import getpass"
   ]
  },
  {
   "cell_type": "code",
   "execution_count": 18,
   "id": "c4784f10-0d6c-4c5d-9dae-6a8b19a2ba85",
   "metadata": {},
   "outputs": [
    {
     "name": "stdin",
     "output_type": "stream",
     "text": [
      "enter private_key ········\n"
     ]
    }
   ],
   "source": [
    "private_key = getpass.getpass('enter private_key')"
   ]
  },
  {
   "cell_type": "code",
   "execution_count": 19,
   "id": "9a2e84d3-e05d-4acf-8051-7c7d7248e879",
   "metadata": {},
   "outputs": [],
   "source": [
    "network = Network(False)"
   ]
  },
  {
   "cell_type": "code",
   "execution_count": 20,
   "id": "33e6835a-5732-4b21-9252-3fc433600069",
   "metadata": {},
   "outputs": [
    {
     "name": "stdout",
     "output_type": "stream",
     "text": [
      "Wallet balance: 10814818351247818813\n"
     ]
    }
   ],
   "source": [
    "wallet = Wallet.new_from_private_key(network, private_key)\n",
    "#print(f\"Wallet address: {wallet.address()}\")\n",
    "print(f\"Wallet balance: {await wallet.balance()}\")"
   ]
  },
  {
   "cell_type": "code",
   "execution_count": 21,
   "id": "5c3b5872-f037-4843-ac54-7ea5a1742a84",
   "metadata": {},
   "outputs": [
    {
     "data": {
      "text/plain": [
       "'44183060000000'"
      ]
     },
     "execution_count": 21,
     "metadata": {},
     "output_type": "execute_result"
    }
   ],
   "source": [
    "await wallet.balance_of_gas()"
   ]
  },
  {
   "cell_type": "code",
   "execution_count": 22,
   "id": "fdd06550-5f63-4280-b2d9-c681139b3855",
   "metadata": {},
   "outputs": [],
   "source": [
    "data = b\"ants will conquer the world!\""
   ]
  },
  {
   "cell_type": "code",
   "execution_count": 23,
   "id": "875e741e-2b19-4881-bae6-520f96c09cc8",
   "metadata": {},
   "outputs": [],
   "source": [
    "# Choose to pay using our wallet\n",
    "payment_option = PaymentOption.wallet(wallet)"
   ]
  },
  {
   "cell_type": "code",
   "execution_count": 24,
   "id": "6f463769-42be-4393-bc2a-fabab681c021",
   "metadata": {},
   "outputs": [],
   "source": [
    "client = await Client.init()"
   ]
  },
  {
   "cell_type": "code",
   "execution_count": 25,
   "id": "95209491-c668-4376-994e-5ef96b9ceeee",
   "metadata": {},
   "outputs": [
    {
     "ename": "RuntimeError",
     "evalue": "Failed to put data: Error occurred during payment.",
     "output_type": "error",
     "traceback": [
      "\u001b[31m---------------------------------------------------------------------------\u001b[39m",
      "\u001b[31mRuntimeError\u001b[39m                              Traceback (most recent call last)",
      "\u001b[36mCell\u001b[39m\u001b[36m \u001b[39m\u001b[32mIn[25]\u001b[39m\u001b[32m, line 1\u001b[39m\n\u001b[32m----> \u001b[39m\u001b[32m1\u001b[39m data_on_network = \u001b[38;5;28;01mawait\u001b[39;00m client.data_put_public(data, payment_option)\n",
      "\u001b[31mRuntimeError\u001b[39m: Failed to put data: Error occurred during payment."
     ]
    }
   ],
   "source": [
    "data_on_network = await client.data_put_public(data, payment_option)"
   ]
  },
  {
   "cell_type": "markdown",
   "id": "def27402-ca71-41d8-bd2c-00638255c410",
   "metadata": {},
   "source": [
    "i'm pretty sure the data should already exist anyway - i uploaded it with the previous version of the library if i'm not mistaken"
   ]
  },
  {
   "cell_type": "markdown",
   "id": "ce084dab-18b8-468b-baf0-39c5ab8813b7",
   "metadata": {},
   "source": [
    "# scratchpads"
   ]
  },
  {
   "cell_type": "markdown",
   "id": "3274270e-e084-4e1e-9baf-3e2025a6f184",
   "metadata": {},
   "source": [
    "some experiments with scratchpad"
   ]
  },
  {
   "cell_type": "markdown",
   "id": "8916de23-7cf0-480f-babb-8c596f24230d",
   "metadata": {},
   "source": [
    "i wanted to deterministically generate scratchpad keys from names .."
   ]
  },
  {
   "cell_type": "code",
   "execution_count": 28,
   "id": "96d24f7e-fce3-4038-9e87-fe4338f5e206",
   "metadata": {},
   "outputs": [
    {
     "name": "stdout",
     "output_type": "stream",
     "text": [
      "Zufälliger privater Schlüssel: 30345d003115642502ddd5bb9e456e0348056b6454b870ed7039708f01f60415\n",
      "Zufälliger öffentlicher Schlüssel: 866bbc1024ebb832974807fec1a176f7a020050f1f1bc56078793b706493444e735990dd188a20551707ff0a58e1d9ba\n",
      "Deterministischer privater Schlüssel: 43b8c6fb66333ec71f677e6b4f2ff6746d757cf8ed2ea2b196fa6f43c534796e\n",
      "Deterministischer öffentlicher Schlüssel: a3eb01ce90ca060019b6cd67908baa0a14742094f7072af6dff029e0cad5ad25fc95458ee6149f389f1bae5a03443715\n"
     ]
    }
   ],
   "source": [
    "from py_ecc.bls import G2ProofOfPossession as bls\n",
    "from py_ecc.bls12_381 import curve_order\n",
    "import secrets\n",
    "import hashlib\n",
    "\n",
    "\n",
    "def generiere_zufaelliges_bls_schluesselpaar() -> tuple[bytes, bytes]:\n",
    "    \"\"\"\n",
    "    Erzeugt ein zufälliges BLS-Schlüsselpaar.\n",
    "\n",
    "    :return: Ein Tupel bestehend aus (privater Schlüssel, öffentlicher Schlüssel).\n",
    "    \"\"\"\n",
    "    privater_schluessel: int = secrets.randbelow(curve_order)  # Richtige Kurvenordnung verwenden\n",
    "    oeffentlicher_schluessel: bytes = bls.SkToPk(privater_schluessel)\n",
    "    return privater_schluessel.to_bytes(32, \"big\"), oeffentlicher_schluessel\n",
    "\n",
    "\n",
    "def ableiten_bls_schluesselpaar_aus_string(eingabe: str) -> tuple[bytes, bytes]:\n",
    "    \"\"\"\n",
    "    Erzeugt deterministisch ein BLS-Schlüsselpaar aus einem String.\n",
    "\n",
    "    :param eingabe: Der Eingabestring, aus dem der Schlüssel abgeleitet wird.\n",
    "    :return: Ein Tupel bestehend aus (privater Schlüssel, öffentlicher Schlüssel).\n",
    "    \"\"\"\n",
    "    gehashter_wert: bytes = hashlib.sha256(eingabe.encode()).digest()\n",
    "    privater_schluessel: int = int.from_bytes(gehashter_wert, \"big\") % curve_order  # Korrektur hier\n",
    "    oeffentlicher_schluessel: bytes = bls.SkToPk(privater_schluessel)\n",
    "    return privater_schluessel.to_bytes(32, \"big\"), oeffentlicher_schluessel\n",
    "\n",
    "\n",
    "# Beispielaufrufe\n",
    "priv, pub = generiere_zufaelliges_bls_schluesselpaar()\n",
    "print(\"Zufälliger privater Schlüssel:\", priv.hex())\n",
    "print(\"Zufälliger öffentlicher Schlüssel:\", pub.hex())\n",
    "\n",
    "det_priv, det_pub = ableiten_bls_schluesselpaar_aus_string(\"mein geheimer input\")\n",
    "print(\"Deterministischer privater Schlüssel:\", det_priv.hex())\n",
    "print(\"Deterministischer öffentlicher Schlüssel:\", det_pub.hex())"
   ]
  },
  {
   "cell_type": "code",
   "execution_count": 29,
   "id": "f77b666e-e7c3-48f5-985f-e884cf7caac3",
   "metadata": {},
   "outputs": [
    {
     "name": "stdout",
     "output_type": "stream",
     "text": [
      "Deterministischer privater Schlüssel: 0847a6d42d6090e332ae3169e65debfaf43a4f4e26a998a9b995f6af05b53445\n",
      "Deterministischer öffentlicher Schlüssel: a060a04b8b5f6bf54b36f66a71310d709e56c445c8a285e15c91a969eb74bd9d048bcf14b33da055caf19e768f2f1fda\n"
     ]
    }
   ],
   "source": [
    "det_priv, det_pub = ableiten_bls_schluesselpaar_aus_string(\"crappychat\")\n",
    "print(\"Deterministischer privater Schlüssel:\", det_priv.hex())\n",
    "print(\"Deterministischer öffentlicher Schlüssel:\", det_pub.hex())"
   ]
  },
  {
   "cell_type": "code",
   "execution_count": 30,
   "id": "a6b6b013-326f-411e-814a-460e68ddbf4d",
   "metadata": {},
   "outputs": [],
   "source": [
    "mykey = SecretKey.from_hex(det_priv.hex())"
   ]
  },
  {
   "cell_type": "code",
   "execution_count": 31,
   "id": "bba64bc3-6d04-4bcf-aa14-78ea63fc9df3",
   "metadata": {},
   "outputs": [],
   "source": [
    "mypubkey = PublicKey.from_hex(det_pub.hex())"
   ]
  },
  {
   "cell_type": "code",
   "execution_count": 33,
   "id": "80a72359-69ff-403e-8641-3bdde98c913d",
   "metadata": {},
   "outputs": [],
   "source": [
    "from autonomi_client import ScratchpadAddress, Scratchpad"
   ]
  },
  {
   "cell_type": "code",
   "execution_count": 34,
   "id": "0fb990bf-f101-4e65-86f5-42f5ce5309f7",
   "metadata": {},
   "outputs": [],
   "source": [
    "address = ScratchpadAddress(mypubkey)"
   ]
  },
  {
   "cell_type": "code",
   "execution_count": 35,
   "id": "676f977c-f618-4295-8906-155ffdc7fdb7",
   "metadata": {},
   "outputs": [],
   "source": [
    "pad = Scratchpad(mykey,7,b'test',7)"
   ]
  },
  {
   "cell_type": "code",
   "execution_count": 36,
   "id": "0c539016-ed49-4a4f-8754-01537a198bfc",
   "metadata": {},
   "outputs": [
    {
     "data": {
      "text/plain": [
       "b'test'"
      ]
     },
     "execution_count": 36,
     "metadata": {},
     "output_type": "execute_result"
    }
   ],
   "source": [
    "pad.decrypt_data(mykey)"
   ]
  },
  {
   "cell_type": "code",
   "execution_count": 37,
   "id": "59f512b5-5711-4e0f-900f-17affada9ad0",
   "metadata": {},
   "outputs": [
    {
     "data": {
      "text/plain": [
       "True"
      ]
     },
     "execution_count": 37,
     "metadata": {},
     "output_type": "execute_result"
    }
   ],
   "source": [
    "await client.scratchpad_check_existance(address)"
   ]
  },
  {
   "cell_type": "code",
   "execution_count": 38,
   "id": "23a9f68b-b6d4-4984-945f-7046e27d0739",
   "metadata": {},
   "outputs": [
    {
     "data": {
      "text/plain": [
       "('0.00000000000000000000000000000000',\n",
       " ScratchpadAddress('a060a04b8b5f6bf54b36f66a71310d709e56c445c8a285e15c91a969eb74bd9d048bcf14b33da055caf19e768f2f1fda'))"
      ]
     },
     "execution_count": 38,
     "metadata": {},
     "output_type": "execute_result"
    }
   ],
   "source": [
    "await client.scratchpad_put(pad, payment_option)"
   ]
  },
  {
   "cell_type": "code",
   "execution_count": 39,
   "id": "7ec6cd6e-3a7e-498f-a506-888862bf2e96",
   "metadata": {},
   "outputs": [
    {
     "ename": "RuntimeError",
     "evalue": "Failed to get scratchpad: Scratchpad found at ScratchpadAddress(PublicKey(0060..5188)) was not a valid record.",
     "output_type": "error",
     "traceback": [
      "\u001b[31m---------------------------------------------------------------------------\u001b[39m",
      "\u001b[31mRuntimeError\u001b[39m                              Traceback (most recent call last)",
      "\u001b[36mCell\u001b[39m\u001b[36m \u001b[39m\u001b[32mIn[39]\u001b[39m\u001b[32m, line 1\u001b[39m\n\u001b[32m----> \u001b[39m\u001b[32m1\u001b[39m pad = \u001b[38;5;28;01mawait\u001b[39;00m client.scratchpad_get(address)\n",
      "\u001b[31mRuntimeError\u001b[39m: Failed to get scratchpad: Scratchpad found at ScratchpadAddress(PublicKey(0060..5188)) was not a valid record."
     ]
    }
   ],
   "source": [
    "pad = await client.scratchpad_get(address)"
   ]
  },
  {
   "cell_type": "code",
   "execution_count": 40,
   "id": "5869a480-d67a-457a-b3cd-d9f138600188",
   "metadata": {},
   "outputs": [
    {
     "name": "stdout",
     "output_type": "stream",
     "text": [
      "Deterministischer privater Schlüssel: 5be65401080eeaf95988e4bba7f2063c386799efc46168acb32b73f5f17ff81a\n",
      "Deterministischer öffentlicher Schlüssel: a3e2789bc7496fa305439609a6006b14dd5e7ceaa382454ac2a8bb214de264eb56857c56a142b7be4815cc6ce774a6b8\n"
     ]
    }
   ],
   "source": [
    "det_priv, det_pub = ableiten_bls_schluesselpaar_aus_string(\"crappychat_v2\")\n",
    "print(\"Deterministischer privater Schlüssel:\", det_priv.hex())\n",
    "print(\"Deterministischer öffentlicher Schlüssel:\", det_pub.hex())"
   ]
  },
  {
   "cell_type": "code",
   "execution_count": 41,
   "id": "21c09518-2f25-48a4-a499-43fe06286cc7",
   "metadata": {},
   "outputs": [],
   "source": [
    "mykey2 = SecretKey.from_hex(det_priv.hex())"
   ]
  },
  {
   "cell_type": "code",
   "execution_count": 42,
   "id": "f50c5b49-1ba2-4b7b-906c-39a43f98a8f7",
   "metadata": {},
   "outputs": [],
   "source": [
    "mypubkey2 = PublicKey.from_hex(det_pub.hex())"
   ]
  },
  {
   "cell_type": "code",
   "execution_count": 43,
   "id": "77bbc4d3-25f0-4acd-b490-1c72cc15e11e",
   "metadata": {
    "scrolled": true
   },
   "outputs": [
    {
     "ename": "RuntimeError",
     "evalue": "Failed to create scratchpad: Payment failure occurred during scratchpad creation.",
     "output_type": "error",
     "traceback": [
      "\u001b[31m---------------------------------------------------------------------------\u001b[39m",
      "\u001b[31mRuntimeError\u001b[39m                              Traceback (most recent call last)",
      "\u001b[36mCell\u001b[39m\u001b[36m \u001b[39m\u001b[32mIn[43]\u001b[39m\u001b[32m, line 1\u001b[39m\n\u001b[32m----> \u001b[39m\u001b[32m1\u001b[39m new_scratchpad = \u001b[38;5;28;01mawait\u001b[39;00m client.scratchpad_create(mykey2,\u001b[32m7\u001b[39m,\u001b[33mb\u001b[39m\u001b[33m'\u001b[39m\u001b[33mcrappychat\u001b[39m\u001b[33m'\u001b[39m,payment_option)\n",
      "\u001b[31mRuntimeError\u001b[39m: Failed to create scratchpad: Payment failure occurred during scratchpad creation."
     ]
    }
   ],
   "source": [
    "new_scratchpad = await client.scratchpad_create(mykey2,7,b'crappychat',payment_option)"
   ]
  },
  {
   "cell_type": "code",
   "execution_count": 44,
   "id": "94b9b5dc-a6dc-429b-b7a4-f497fb58c03c",
   "metadata": {},
   "outputs": [],
   "source": [
    "pad = Scratchpad(mykey2,7,b'test',7)"
   ]
  },
  {
   "cell_type": "code",
   "execution_count": 45,
   "id": "38b540df-0ecf-46fb-a6c6-767a7912f06f",
   "metadata": {},
   "outputs": [
    {
     "ename": "RuntimeError",
     "evalue": "Failed to put scratchpad: Payment failure occurred during scratchpad creation.",
     "output_type": "error",
     "traceback": [
      "\u001b[31m---------------------------------------------------------------------------\u001b[39m",
      "\u001b[31mRuntimeError\u001b[39m                              Traceback (most recent call last)",
      "\u001b[36mCell\u001b[39m\u001b[36m \u001b[39m\u001b[32mIn[45]\u001b[39m\u001b[32m, line 1\u001b[39m\n\u001b[32m----> \u001b[39m\u001b[32m1\u001b[39m \u001b[38;5;28;01mawait\u001b[39;00m client.scratchpad_put(pad, payment_option)\n",
      "\u001b[31mRuntimeError\u001b[39m: Failed to put scratchpad: Payment failure occurred during scratchpad creation."
     ]
    }
   ],
   "source": [
    "await client.scratchpad_put(pad, payment_option)"
   ]
  },
  {
   "cell_type": "code",
   "execution_count": null,
   "id": "aeba2696-931f-41e3-a667-c89e92ddfeb1",
   "metadata": {},
   "outputs": [],
   "source": []
  }
 ],
 "metadata": {
  "kernelspec": {
   "display_name": "Python 3 (ipykernel)",
   "language": "python",
   "name": "python3"
  },
  "language_info": {
   "codemirror_mode": {
    "name": "ipython",
    "version": 3
   },
   "file_extension": ".py",
   "mimetype": "text/x-python",
   "name": "python",
   "nbconvert_exporter": "python",
   "pygments_lexer": "ipython3",
   "version": "3.11.10"
  }
 },
 "nbformat": 4,
 "nbformat_minor": 5
}
